{
  "nbformat": 4,
  "nbformat_minor": 0,
  "metadata": {
    "colab": {
      "provenance": []
    },
    "kernelspec": {
      "name": "python3",
      "display_name": "Python 3"
    },
    "language_info": {
      "name": "python"
    }
  },
  "cells": [
    {
      "cell_type": "code",
      "execution_count": null,
      "metadata": {
        "id": "ee39eml8CCLc"
      },
      "outputs": [],
      "source": [
        "import numpy as np\n",
        "import pandas as pd\n",
        "path=\"/content/drive/MyDrive/Data Set/Document from Aashrith\"\n",
        "dd=pd.read_csv(path)\n",
        "print(dd.head(5))"
      ]
    },
    {
      "cell_type": "code",
      "source": [
        "print(dd.dtypes)"
      ],
      "metadata": {
        "id": "8Qmt3QToDyac"
      },
      "execution_count": null,
      "outputs": []
    },
    {
      "cell_type": "code",
      "source": [
        "print(dd.describe)"
      ],
      "metadata": {
        "id": "jj30-mNeD9_q"
      },
      "execution_count": null,
      "outputs": []
    },
    {
      "cell_type": "code",
      "source": [
        "print(dd.isna().sum())"
      ],
      "metadata": {
        "id": "DkMX4sdYEQfp"
      },
      "execution_count": null,
      "outputs": []
    },
    {
      "cell_type": "code",
      "source": [
        "age_mean = dd['Age'].mean()\n",
        "dd['Age'].fillna(value=age_mean, inplace=True)"
      ],
      "metadata": {
        "id": "J6YIzvroEylC"
      },
      "execution_count": null,
      "outputs": []
    },
    {
      "cell_type": "code",
      "source": [
        "print(dd.isna().sum())"
      ],
      "metadata": {
        "id": "h7LelwFZFd6B"
      },
      "execution_count": null,
      "outputs": []
    },
    {
      "cell_type": "code",
      "source": [
        "dd.drop(columns=['Cabin'], axis=1, inplace=True)\n",
        "print(dd.head(5))"
      ],
      "metadata": {
        "id": "5MZHQmrCGqe_"
      },
      "execution_count": null,
      "outputs": []
    },
    {
      "cell_type": "code",
      "source": [
        "passengers_over_40 = dd[dd['Age'] > 40]\n",
        "passengers_over_40[['Name', 'Age']]"
      ],
      "metadata": {
        "id": "CVZYOBTIHCXJ"
      },
      "execution_count": null,
      "outputs": []
    },
    {
      "cell_type": "code",
      "source": [
        "import pandas as pd\n",
        "merged_rows = pd.concat([dd.head(2), dd.tail(2)])\n",
        "merged_rows\n"
      ],
      "metadata": {
        "id": "TllftiitHIrp"
      },
      "execution_count": null,
      "outputs": []
    }
  ]
}